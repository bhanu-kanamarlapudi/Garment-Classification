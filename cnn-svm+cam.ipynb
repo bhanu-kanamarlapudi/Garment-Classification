{
 "cells": [
  {
   "cell_type": "markdown",
   "id": "b852f252",
   "metadata": {
    "pycharm": {
     "name": "#%% md\n"
    }
   },
   "source": [
    "### CNN on Fashion MNIST"
   ]
  },
  {
   "cell_type": "code",
   "execution_count": 1,
   "id": "db721c07",
   "metadata": {
    "execution": {
     "iopub.execute_input": "2022-12-11T16:53:02.435356Z",
     "iopub.status.busy": "2022-12-11T16:53:02.434823Z",
     "iopub.status.idle": "2022-12-11T16:53:04.209212Z",
     "shell.execute_reply": "2022-12-11T16:53:04.208165Z",
     "shell.execute_reply.started": "2022-12-11T16:53:02.435288Z"
    },
    "pycharm": {
     "name": "#%%\n"
    }
   },
   "outputs": [],
   "source": [
    "from tensorflow import keras\n",
    "from keras.datasets import fashion_mnist\n",
    "import numpy as np\n",
    "import matplotlib.pyplot as plt\n",
    "from keras.models import Sequential,Model\n",
    "from keras.layers import Dense, Conv2D, MaxPooling2D, GlobalAveragePooling2D\n",
    "import scipy as sp\n",
    "import tensorflow as tf\n",
    "from keras import backend as K\n",
    "from keras_preprocessing import image\n",
    "from IPython.display import Image, display\n",
    "import matplotlib.cm as cm\n",
    "tf.compat.v1.disable_eager_execution()\n",
    "import cv2"
   ]
  },
  {
   "cell_type": "markdown",
   "id": "5e2aad4b",
   "metadata": {},
   "source": [
    "### Loading data"
   ]
  },
  {
   "cell_type": "code",
   "execution_count": 2,
   "id": "204eddba",
   "metadata": {
    "execution": {
     "iopub.execute_input": "2022-12-11T16:53:04.211395Z",
     "iopub.status.busy": "2022-12-11T16:53:04.210695Z",
     "iopub.status.idle": "2022-12-11T16:53:04.641226Z",
     "shell.execute_reply": "2022-12-11T16:53:04.640130Z",
     "shell.execute_reply.started": "2022-12-11T16:53:04.211364Z"
    },
    "pycharm": {
     "name": "#%%\n"
    }
   },
   "outputs": [],
   "source": [
    "(X_train,Y_train),(X_test,Y_test)  = fashion_mnist.load_data()"
   ]
  },
  {
   "cell_type": "markdown",
   "id": "f2abe5ef",
   "metadata": {},
   "source": [
    "### Preprocessing Data"
   ]
  },
  {
   "cell_type": "code",
   "execution_count": 3,
   "id": "72da0cf1",
   "metadata": {
    "execution": {
     "iopub.execute_input": "2022-12-11T16:53:04.643560Z",
     "iopub.status.busy": "2022-12-11T16:53:04.643139Z",
     "iopub.status.idle": "2022-12-11T16:53:04.956273Z",
     "shell.execute_reply": "2022-12-11T16:53:04.955235Z",
     "shell.execute_reply.started": "2022-12-11T16:53:04.643520Z"
    }
   },
   "outputs": [],
   "source": [
    "X_train = X_train.reshape(60000,28,28,1)\n",
    "X_test = X_test.reshape(10000,28,28,1)\n",
    "# Normalize the pixel values from 0 to 1\n",
    "X_train = X_train/255\n",
    "X_test  = X_test/255\n",
    "#to float\n",
    "X_train = X_train.astype('float')\n",
    "X_test  = X_test.astype('float')\n"
   ]
  },
  {
   "cell_type": "code",
   "execution_count": 4,
   "id": "68c1e9ef",
   "metadata": {
    "execution": {
     "iopub.execute_input": "2022-12-11T16:53:04.960146Z",
     "iopub.status.busy": "2022-12-11T16:53:04.959744Z",
     "iopub.status.idle": "2022-12-11T16:53:04.966259Z",
     "shell.execute_reply": "2022-12-11T16:53:04.964097Z",
     "shell.execute_reply.started": "2022-12-11T16:53:04.960092Z"
    }
   },
   "outputs": [],
   "source": [
    "def show_img(img):\n",
    "    img  = np.array(img,dtype='float')\n",
    "    img = img.reshape((28,28))\n",
    "    plt.imshow(img)"
   ]
  },
  {
   "cell_type": "code",
   "execution_count": 5,
   "id": "37706472",
   "metadata": {
    "execution": {
     "iopub.execute_input": "2022-12-11T16:53:04.968855Z",
     "iopub.status.busy": "2022-12-11T16:53:04.967783Z",
     "iopub.status.idle": "2022-12-11T16:53:05.185884Z",
     "shell.execute_reply": "2022-12-11T16:53:05.184992Z",
     "shell.execute_reply.started": "2022-12-11T16:53:04.968820Z"
    }
   },
   "outputs": [
    {
     "data": {
      "image/png": "[encoded data removed]",
      "text/plain": [
       "<Figure size 432x288 with 1 Axes>"
      ]
     },
     "metadata": {
      "needs_background": "light"
     },
     "output_type": "display_data"
    }
   ],
   "source": [
    "show_img(X_train[1])"
   ]
  },
  {
   "cell_type": "code",
   "execution_count": 6,
   "id": "daf5ecf4",
   "metadata": {
    "execution": {
     "iopub.execute_input": "2022-12-11T16:53:05.188789Z",
     "iopub.status.busy": "2022-12-11T16:53:05.188168Z",
     "iopub.status.idle": "2022-12-11T16:53:05.443715Z",
     "shell.execute_reply": "2022-12-11T16:53:05.442680Z",
     "shell.execute_reply.started": "2022-12-11T16:53:05.188753Z"
    },
    "pycharm": {
     "name": "#%%\n"
    }
   },
   "outputs": [
    {
     "name": "stdout",
     "output_type": "stream",
     "text": [
      "Model: \"sequential\"\n",
      "_________________________________________________________________\n",
      "Layer (type)                 Output Shape              Param #   \n",
      "=================================================================\n",
      "conv2d (Conv2D)              (None, 28, 28, 16)        160       \n",
      "_________________________________________________________________\n",
      "max_pooling2d (MaxPooling2D) (None, 14, 14, 16)        0         \n",
      "_________________________________________________________________\n",
      "conv2d_1 (Conv2D)            (None, 14, 14, 32)        4640      \n",
      "_________________________________________________________________\n",
      "max_pooling2d_1 (MaxPooling2 (None, 7, 7, 32)          0         \n",
      "_________________________________________________________________\n",
      "conv2d_2 (Conv2D)            (None, 7, 7, 64)          18496     \n",
      "_________________________________________________________________\n",
      "max_pooling2d_2 (MaxPooling2 (None, 3, 3, 64)          0         \n",
      "_________________________________________________________________\n",
      "conv2d_3 (Conv2D)            (None, 3, 3, 128)         73856     \n",
      "_________________________________________________________________\n",
      "max_pooling2d_3 (MaxPooling2 (None, 1, 1, 128)         0         \n",
      "_________________________________________________________________\n",
      "conv2d_4 (Conv2D)            (None, 1, 1, 256)         295168    \n",
      "_________________________________________________________________\n",
      "global_average_pooling2d (Gl (None, 256)               0         \n",
      "_________________________________________________________________\n",
      "dense (Dense)                (None, 10)                2570      \n",
      "=================================================================\n",
      "Total params: 394,890\n",
      "Trainable params: 394,890\n",
      "Non-trainable params: 0\n",
      "_________________________________________________________________\n"
     ]
    }
   ],
   "source": [
    "model = Sequential()\n",
    "model.add(Conv2D(16,input_shape=(28,28,1),kernel_size=(3,3),activation='relu',padding='same'))\n",
    "model.add(MaxPooling2D(pool_size=(2,2)))\n",
    "model.add(Conv2D(32,kernel_size=(3,3),activation='relu',padding='same'))\n",
    "model.add(MaxPooling2D(pool_size=(2,2)))\n",
    "model.add(Conv2D(64,kernel_size=(3,3),activation='relu',padding='same'))\n",
    "model.add(MaxPooling2D(pool_size=(2,2)))\n",
    "model.add(Conv2D(128,kernel_size=(3,3),activation='relu',padding='same'))\n",
    "model.add(MaxPooling2D(pool_size=(2,2)))\n",
    "model.add(Conv2D(256,kernel_size=(3,3),activation='relu',padding='same'))\n",
    "model.add(GlobalAveragePooling2D())\n",
    "model.add(Dense(10,activation='softmax'))\n",
    "model.summary()"
   ]
  },
  {
   "cell_type": "markdown",
   "id": "e9327d1b",
   "metadata": {
    "pycharm": {
     "name": "#%% md\n"
    }
   },
   "source": [
    "### Compiling model"
   ]
  },
  {
   "cell_type": "code",
   "execution_count": 7,
   "id": "e34b83fd",
   "metadata": {
    "execution": {
     "iopub.execute_input": "2022-12-11T16:53:05.447247Z",
     "iopub.status.busy": "2022-12-11T16:53:05.446063Z",
     "iopub.status.idle": "2022-12-11T16:53:40.606924Z",
     "shell.execute_reply": "2022-12-11T16:53:40.605968Z",
     "shell.execute_reply.started": "2022-12-11T16:53:05.447207Z"
    },
    "pycharm": {
     "name": "#%%\n"
    }
   },
   "outputs": [
    {
     "name": "stdout",
     "output_type": "stream",
     "text": [
      "Train on 54000 samples, validate on 6000 samples\n"
     ]
    },
    {
     "name": "stderr",
     "output_type": "stream",
     "text": [
      "2022-12-11 16:53:05.707492: I tensorflow/stream_executor/cuda/cuda_gpu_executor.cc:937] successful NUMA node read from SysFS had negative value (-1), but there must be at least one NUMA node, so returning NUMA node zero\n",
      "2022-12-11 16:53:05.717926: I tensorflow/stream_executor/cuda/cuda_gpu_executor.cc:937] successful NUMA node read from SysFS had negative value (-1), but there must be at least one NUMA node, so returning NUMA node zero\n",
      "2022-12-11 16:53:05.718710: I tensorflow/stream_executor/cuda/cuda_gpu_executor.cc:937] successful NUMA node read from SysFS had negative value (-1), but there must be at least one NUMA node, so returning NUMA node zero\n",
      "2022-12-11 16:53:05.720312: I tensorflow/core/platform/cpu_feature_guard.cc:142] This TensorFlow binary is optimized with oneAPI Deep Neural Network Library (oneDNN) to use the following CPU instructions in performance-critical operations:  AVX2 AVX512F FMA\n",
      "To enable them in other operations, rebuild TensorFlow with the appropriate compiler flags.\n",
      "2022-12-11 16:53:05.720733: I tensorflow/stream_executor/cuda/cuda_gpu_executor.cc:937] successful NUMA node read from SysFS had negative value (-1), but there must be at least one NUMA node, so returning NUMA node zero\n",
      "2022-12-11 16:53:05.721577: I tensorflow/stream_executor/cuda/cuda_gpu_executor.cc:937] successful NUMA node read from SysFS had negative value (-1), but there must be at least one NUMA node, so returning NUMA node zero\n",
      "2022-12-11 16:53:05.722489: I tensorflow/stream_executor/cuda/cuda_gpu_executor.cc:937] successful NUMA node read from SysFS had negative value (-1), but there must be at least one NUMA node, so returning NUMA node zero\n",
      "2022-12-11 16:53:06.387045: I tensorflow/stream_executor/cuda/cuda_gpu_executor.cc:937] successful NUMA node read from SysFS had negative value (-1), but there must be at least one NUMA node, so returning NUMA node zero\n",
      "2022-12-11 16:53:06.388338: I tensorflow/stream_executor/cuda/cuda_gpu_executor.cc:937] successful NUMA node read from SysFS had negative value (-1), but there must be at least one NUMA node, so returning NUMA node zero\n",
      "2022-12-11 16:53:06.389222: I tensorflow/stream_executor/cuda/cuda_gpu_executor.cc:937] successful NUMA node read from SysFS had negative value (-1), but there must be at least one NUMA node, so returning NUMA node zero\n",
      "2022-12-11 16:53:06.389942: I tensorflow/core/common_runtime/gpu/gpu_device.cc:1510] Created device /job:localhost/replica:0/task:0/device:GPU:0 with 15401 MB memory:  -> device: 0, name: Tesla P100-PCIE-16GB, pci bus id: 0000:00:04.0, compute capability: 6.0\n"
     ]
    },
    {
     "name": "stdout",
     "output_type": "stream",
     "text": [
      "Epoch 1/5\n"
     ]
    },
    {
     "name": "stderr",
     "output_type": "stream",
     "text": [
      "2022-12-11 16:53:07.243470: I tensorflow/stream_executor/cuda/cuda_dnn.cc:369] Loaded cuDNN version 8005\n"
     ]
    },
    {
     "name": "stdout",
     "output_type": "stream",
     "text": [
      "54000/54000 [==============================] - ETA: 0s - loss: 0.5290 - accuracy: 0.8027"
     ]
    },
    {
     "name": "stderr",
     "output_type": "stream",
     "text": [
      "/opt/conda/lib/python3.7/site-packages/keras/engine/training.py:2470: UserWarning: `Model.state_updates` will be removed in a future version. This property should not be used in TensorFlow 2.0, as `updates` are applied automatically.\n",
      "  warnings.warn('`Model.state_updates` will be removed in a future version. '\n"
     ]
    },
    {
     "name": "stdout",
     "output_type": "stream",
     "text": [
      "54000/54000 [==============================] - 8s 145us/sample - loss: 0.5290 - accuracy: 0.8027 - val_loss: 0.3459 - val_accuracy: 0.8698\n",
      "Epoch 2/5\n",
      "54000/54000 [==============================] - 7s 121us/sample - loss: 0.3223 - accuracy: 0.8813 - val_loss: 0.3119 - val_accuracy: 0.8813\n",
      "Epoch 3/5\n",
      "54000/54000 [==============================] - 6s 114us/sample - loss: 0.2743 - accuracy: 0.8989 - val_loss: 0.2890 - val_accuracy: 0.8918\n",
      "Epoch 4/5\n",
      "54000/54000 [==============================] - 7s 130us/sample - loss: 0.2432 - accuracy: 0.9100 - val_loss: 0.2784 - val_accuracy: 0.8992\n",
      "Epoch 5/5\n",
      "54000/54000 [==============================] - 6s 115us/sample - loss: 0.2169 - accuracy: 0.9195 - val_loss: 0.2512 - val_accuracy: 0.9068\n"
     ]
    },
    {
     "data": {
      "text/plain": [
       "<keras.callbacks.History at 0x7fc096573410>"
      ]
     },
     "execution_count": 7,
     "metadata": {},
     "output_type": "execute_result"
    }
   ],
   "source": [
    "model.compile(loss='sparse_categorical_crossentropy',metrics=['accuracy'],optimizer='adam')\n",
    "\n",
    "# train the model. just run a few epochs for this test run. you can adjust later.\n",
    "model.fit(X_train,Y_train,batch_size=32, epochs=5, validation_split=0.1, shuffle=True)"
   ]
  },
  {
   "cell_type": "code",
   "execution_count": 8,
   "id": "25ca3093",
   "metadata": {
    "execution": {
     "iopub.execute_input": "2022-12-11T16:53:40.608810Z",
     "iopub.status.busy": "2022-12-11T16:53:40.608226Z",
     "iopub.status.idle": "2022-12-11T16:53:40.616574Z",
     "shell.execute_reply": "2022-12-11T16:53:40.615445Z",
     "shell.execute_reply.started": "2022-12-11T16:53:40.608782Z"
    },
    "pycharm": {
     "name": "#%%\n"
    }
   },
   "outputs": [
    {
     "name": "stdout",
     "output_type": "stream",
     "text": [
      "conv2d_4\n",
      "dense\n",
      "<function softmax at 0x7fc0a5bf7ef0>\n"
     ]
    }
   ],
   "source": [
    "print(model.layers[-3].name)\n",
    "#print(model.layers[-3].name)\n",
    "print(model.layers[-1].name)\n",
    "print(model.layers[-1].activation)"
   ]
  },
  {
   "cell_type": "code",
   "execution_count": 9,
   "id": "4d1ac056",
   "metadata": {
    "execution": {
     "iopub.execute_input": "2022-12-11T16:53:40.619123Z",
     "iopub.status.busy": "2022-12-11T16:53:40.618369Z",
     "iopub.status.idle": "2022-12-11T16:53:40.633571Z",
     "shell.execute_reply": "2022-12-11T16:53:40.632548Z",
     "shell.execute_reply.started": "2022-12-11T16:53:40.619072Z"
    },
    "pycharm": {
     "name": "#%%\n"
    }
   },
   "outputs": [
    {
     "name": "stdout",
     "output_type": "stream",
     "text": [
      "gap_weights_l index 0 contains weights  (256, 10)\n",
      "gap_weights_l index 1 contains biases  (10,)\n"
     ]
    }
   ],
   "source": [
    "last_dense = model.layers[-1]\n",
    "last_dense_weights = last_dense.get_weights()\n",
    "gap_weights = last_dense_weights[0]\n",
    "print(\"gap_weights_l index 0 contains weights \", last_dense_weights[0].shape)\n",
    "print(\"gap_weights_l index 1 contains biases \", last_dense_weights[1].shape)"
   ]
  },
  {
   "cell_type": "code",
   "execution_count": 10,
   "id": "cf776f50",
   "metadata": {
    "execution": {
     "iopub.execute_input": "2022-12-11T16:53:40.635549Z",
     "iopub.status.busy": "2022-12-11T16:53:40.635209Z",
     "iopub.status.idle": "2022-12-11T16:53:40.643083Z",
     "shell.execute_reply": "2022-12-11T16:53:40.642144Z",
     "shell.execute_reply.started": "2022-12-11T16:53:40.635515Z"
    }
   },
   "outputs": [
    {
     "name": "stdout",
     "output_type": "stream",
     "text": [
      "0 <keras.layers.convolutional.Conv2D object at 0x7fc096e87fd0>\n",
      "1 <keras.layers.pooling.MaxPooling2D object at 0x7fc096ee0a90>\n",
      "2 <keras.layers.convolutional.Conv2D object at 0x7fc0a5c01110>\n",
      "3 <keras.layers.pooling.MaxPooling2D object at 0x7fc09657ce90>\n",
      "4 <keras.layers.convolutional.Conv2D object at 0x7fc096ee82d0>\n",
      "5 <keras.layers.pooling.MaxPooling2D object at 0x7fc09658c990>\n",
      "6 <keras.layers.convolutional.Conv2D object at 0x7fc0965838d0>\n",
      "7 <keras.layers.pooling.MaxPooling2D object at 0x7fc096583050>\n",
      "8 <keras.layers.convolutional.Conv2D object at 0x7fc096515f90>\n",
      "9 <keras.layers.pooling.GlobalAveragePooling2D object at 0x7fc096527f90>\n",
      "10 <keras.layers.core.Dense object at 0x7fc096e4eb90>\n"
     ]
    }
   ],
   "source": [
    "#print layers\n",
    "for l in range(len(model.layers)):\n",
    "    print(l, model.layers[l])"
   ]
  },
  {
   "cell_type": "code",
   "execution_count": 11,
   "id": "42b5ed3d",
   "metadata": {
    "execution": {
     "iopub.execute_input": "2022-12-11T16:53:40.645265Z",
     "iopub.status.busy": "2022-12-11T16:53:40.644267Z",
     "iopub.status.idle": "2022-12-11T16:53:40.653279Z",
     "shell.execute_reply": "2022-12-11T16:53:40.652392Z",
     "shell.execute_reply.started": "2022-12-11T16:53:40.645231Z"
    }
   },
   "outputs": [],
   "source": [
    "#get features\n",
    "getFeature = K.function([model.layers[0].input, K.learning_phase()],\n",
    "                        [model.layers[9].output])"
   ]
  },
  {
   "cell_type": "code",
   "execution_count": 12,
   "id": "fc9715f8",
   "metadata": {
    "execution": {
     "iopub.execute_input": "2022-12-11T16:53:40.654823Z",
     "iopub.status.busy": "2022-12-11T16:53:40.654487Z",
     "iopub.status.idle": "2022-12-11T16:53:43.260361Z",
     "shell.execute_reply": "2022-12-11T16:53:43.259355Z",
     "shell.execute_reply.started": "2022-12-11T16:53:40.654789Z"
    }
   },
   "outputs": [],
   "source": [
    "train_X = getFeature([X_train, 0])[0]\n",
    "test_X = getFeature([X_test, 0])[0]"
   ]
  },
  {
   "cell_type": "code",
   "execution_count": 13,
   "id": "2efba77d",
   "metadata": {
    "execution": {
     "iopub.execute_input": "2022-12-11T16:53:43.266494Z",
     "iopub.status.busy": "2022-12-11T16:53:43.265772Z",
     "iopub.status.idle": "2022-12-11T16:53:43.273629Z",
     "shell.execute_reply": "2022-12-11T16:53:43.272478Z",
     "shell.execute_reply.started": "2022-12-11T16:53:43.266455Z"
    }
   },
   "outputs": [
    {
     "data": {
      "text/plain": [
       "(10000, 256)"
      ]
     },
     "execution_count": 13,
     "metadata": {},
     "output_type": "execute_result"
    }
   ],
   "source": [
    "test_X.shape"
   ]
  },
  {
   "cell_type": "code",
   "execution_count": 14,
   "id": "6dd042a2",
   "metadata": {
    "execution": {
     "iopub.execute_input": "2022-12-11T16:53:43.277182Z",
     "iopub.status.busy": "2022-12-11T16:53:43.276389Z",
     "iopub.status.idle": "2022-12-11T16:53:43.285385Z",
     "shell.execute_reply": "2022-12-11T16:53:43.284337Z",
     "shell.execute_reply.started": "2022-12-11T16:53:43.277142Z"
    }
   },
   "outputs": [
    {
     "data": {
      "text/plain": [
       "(60000, 256)"
      ]
     },
     "execution_count": 14,
     "metadata": {},
     "output_type": "execute_result"
    }
   ],
   "source": [
    "train_X.shape"
   ]
  },
  {
   "cell_type": "code",
   "execution_count": 15,
   "id": "c154e136",
   "metadata": {
    "execution": {
     "iopub.execute_input": "2022-12-11T16:53:43.287252Z",
     "iopub.status.busy": "2022-12-11T16:53:43.286825Z",
     "iopub.status.idle": "2022-12-11T16:56:45.869122Z",
     "shell.execute_reply": "2022-12-11T16:56:45.867932Z",
     "shell.execute_reply.started": "2022-12-11T16:53:43.287218Z"
    }
   },
   "outputs": [
    {
     "data": {
      "text/plain": [
       "SVC(C=10, gamma='auto', probability=True)"
      ]
     },
     "execution_count": 15,
     "metadata": {},
     "output_type": "execute_result"
    }
   ],
   "source": [
    "from sklearn.svm import SVC\n",
    "svmclf = SVC(C=10,kernel='rbf',gamma=\"auto\",probability = True)\n",
    "svmclf.fit(train_X,Y_train)"
   ]
  },
  {
   "cell_type": "code",
   "execution_count": 16,
   "id": "3511e4d1",
   "metadata": {
    "execution": {
     "iopub.execute_input": "2022-12-11T16:56:45.871735Z",
     "iopub.status.busy": "2022-12-11T16:56:45.870621Z",
     "iopub.status.idle": "2022-12-11T16:57:14.092034Z",
     "shell.execute_reply": "2022-12-11T16:57:14.090963Z",
     "shell.execute_reply.started": "2022-12-11T16:56:45.871695Z"
    }
   },
   "outputs": [],
   "source": [
    "Y_pred = svmclf.predict(test_X)"
   ]
  },
  {
   "cell_type": "code",
   "execution_count": 17,
   "id": "2a364fc1",
   "metadata": {
    "execution": {
     "iopub.execute_input": "2022-12-11T16:57:14.093735Z",
     "iopub.status.busy": "2022-12-11T16:57:14.093351Z",
     "iopub.status.idle": "2022-12-11T16:57:14.101265Z",
     "shell.execute_reply": "2022-12-11T16:57:14.099911Z",
     "shell.execute_reply.started": "2022-12-11T16:57:14.093696Z"
    }
   },
   "outputs": [
    {
     "name": "stdout",
     "output_type": "stream",
     "text": [
      "(10000,)\n"
     ]
    }
   ],
   "source": [
    "print(Y_pred.shape)"
   ]
  },
  {
   "cell_type": "code",
   "execution_count": 18,
   "id": "ed7396bf",
   "metadata": {
    "execution": {
     "iopub.execute_input": "2022-12-11T16:57:14.103728Z",
     "iopub.status.busy": "2022-12-11T16:57:14.102745Z",
     "iopub.status.idle": "2022-12-11T16:57:14.134511Z",
     "shell.execute_reply": "2022-12-11T16:57:14.133148Z",
     "shell.execute_reply.started": "2022-12-11T16:57:14.103669Z"
    }
   },
   "outputs": [
    {
     "name": "stdout",
     "output_type": "stream",
     "text": [
      "              precision    recall  f1-score   support\n",
      "\n",
      "           0       0.85      0.88      0.86      1000\n",
      "           1       0.99      0.98      0.99      1000\n",
      "           2       0.87      0.87      0.87      1000\n",
      "           3       0.91      0.92      0.92      1000\n",
      "           4       0.85      0.88      0.87      1000\n",
      "           5       0.98      0.98      0.98      1000\n",
      "           6       0.77      0.72      0.74      1000\n",
      "           7       0.96      0.98      0.97      1000\n",
      "           8       0.98      0.98      0.98      1000\n",
      "           9       0.98      0.96      0.97      1000\n",
      "\n",
      "    accuracy                           0.92     10000\n",
      "   macro avg       0.91      0.92      0.91     10000\n",
      "weighted avg       0.91      0.92      0.91     10000\n",
      "\n"
     ]
    }
   ],
   "source": [
    "from sklearn.metrics import classification_report\n",
    "print(classification_report(Y_test,Y_pred))"
   ]
  },
  {
   "cell_type": "markdown",
   "id": "56a5cde2",
   "metadata": {
    "pycharm": {
     "name": "#%% md\n"
    }
   },
   "source": [
    "## Predicting image taken from Google"
   ]
  },
  {
   "cell_type": "markdown",
   "id": "5a00fca1",
   "metadata": {
    "pycharm": {
     "name": "#%% md\n"
    }
   },
   "source": [
    "### Preprocessing google image"
   ]
  },
  {
   "cell_type": "code",
   "execution_count": 36,
   "id": "365a3413",
   "metadata": {
    "execution": {
     "iopub.execute_input": "2022-12-11T17:01:50.538683Z",
     "iopub.status.busy": "2022-12-11T17:01:50.538063Z",
     "iopub.status.idle": "2022-12-11T17:01:50.740691Z",
     "shell.execute_reply": "2022-12-11T17:01:50.739770Z",
     "shell.execute_reply.started": "2022-12-11T17:01:50.538646Z"
    },
    "pycharm": {
     "name": "#%%\n"
    }
   },
   "outputs": [
    {
     "data": {
      "image/png": "[encoded data removed]",
      "text/plain": [
       "<Figure size 432x288 with 1 Axes>"
      ]
     },
     "metadata": {
      "needs_background": "light"
     },
     "output_type": "display_data"
    }
   ],
   "source": [
    "def preprocess(trouser_image, t_image_size):\n",
    "    img = tf.expand_dims(trouser_image, -1)       # from 28 x 28 to 28 x 28 x 1 \n",
    "    img = tf.divide(img, 255)           # normalize \n",
    "    img = tf.image.resize(img,          # resize acc to the input\n",
    "             [t_image_size, t_image_size])\n",
    "    img = tf.reshape(img,               # reshape to add batch dimension \n",
    "            [1, t_image_size, t_image_size, 1])\n",
    "    return img\n",
    "img = cv2.imread('/kaggle/input/trouserimage/trouserimage2.jpg', 0)  #grayscale image\n",
    "img = cv2.bitwise_not(img)\n",
    "plt.imshow(img, cmap=\"gray\")\n",
    "plt.show()\n",
    "img = preprocess(img, 28) "
   ]
  },
  {
   "cell_type": "markdown",
   "id": "4b2192f4",
   "metadata": {},
   "source": [
    "### Creating CAM model"
   ]
  },
  {
   "cell_type": "code",
   "execution_count": 20,
   "id": "4c3b9cc5",
   "metadata": {
    "execution": {
     "iopub.execute_input": "2022-12-11T16:57:14.405495Z",
     "iopub.status.busy": "2022-12-11T16:57:14.405017Z",
     "iopub.status.idle": "2022-12-11T16:57:14.414962Z",
     "shell.execute_reply": "2022-12-11T16:57:14.413751Z",
     "shell.execute_reply.started": "2022-12-11T16:57:14.405441Z"
    },
    "pycharm": {
     "name": "#%%\n"
    }
   },
   "outputs": [
    {
     "name": "stdout",
     "output_type": "stream",
     "text": [
      "Model: \"model\"\n",
      "_________________________________________________________________\n",
      "Layer (type)                 Output Shape              Param #   \n",
      "=================================================================\n",
      "conv2d_input (InputLayer)    [(None, 28, 28, 1)]       0         \n",
      "_________________________________________________________________\n",
      "conv2d (Conv2D)              (None, 28, 28, 16)        160       \n",
      "_________________________________________________________________\n",
      "max_pooling2d (MaxPooling2D) (None, 14, 14, 16)        0         \n",
      "_________________________________________________________________\n",
      "conv2d_1 (Conv2D)            (None, 14, 14, 32)        4640      \n",
      "_________________________________________________________________\n",
      "max_pooling2d_1 (MaxPooling2 (None, 7, 7, 32)          0         \n",
      "_________________________________________________________________\n",
      "conv2d_2 (Conv2D)            (None, 7, 7, 64)          18496     \n",
      "_________________________________________________________________\n",
      "max_pooling2d_2 (MaxPooling2 (None, 3, 3, 64)          0         \n",
      "_________________________________________________________________\n",
      "conv2d_3 (Conv2D)            (None, 3, 3, 128)         73856     \n",
      "_________________________________________________________________\n",
      "max_pooling2d_3 (MaxPooling2 (None, 1, 1, 128)         0         \n",
      "_________________________________________________________________\n",
      "conv2d_4 (Conv2D)            (None, 1, 1, 256)         295168    \n",
      "_________________________________________________________________\n",
      "global_average_pooling2d (Gl (None, 256)               0         \n",
      "_________________________________________________________________\n",
      "dense (Dense)                (None, 10)                2570      \n",
      "=================================================================\n",
      "Total params: 394,890\n",
      "Trainable params: 394,890\n",
      "Non-trainable params: 0\n",
      "_________________________________________________________________\n"
     ]
    }
   ],
   "source": [
    "# creating cam model\n",
    "cam_model  = Model(inputs=model.input,outputs=(model.layers[-3].output,model.layers[-1].output))\n",
    "cam_model.summary()"
   ]
  },
  {
   "cell_type": "code",
   "execution_count": 21,
   "id": "94571c9a",
   "metadata": {
    "execution": {
     "iopub.execute_input": "2022-12-11T16:57:14.417193Z",
     "iopub.status.busy": "2022-12-11T16:57:14.416246Z",
     "iopub.status.idle": "2022-12-11T16:57:41.347705Z",
     "shell.execute_reply": "2022-12-11T16:57:41.346610Z",
     "shell.execute_reply.started": "2022-12-11T16:57:14.417159Z"
    },
    "pycharm": {
     "name": "#%%\n"
    }
   },
   "outputs": [
    {
     "name": "stderr",
     "output_type": "stream",
     "text": [
      "/opt/conda/lib/python3.7/site-packages/keras/engine/training.py:2470: UserWarning: `Model.state_updates` will be removed in a future version. This property should not be used in TensorFlow 2.0, as `updates` are applied automatically.\n",
      "  warnings.warn('`Model.state_updates` will be removed in a future version. '\n"
     ]
    },
    {
     "name": "stdout",
     "output_type": "stream",
     "text": [
      "(10000,)\n",
      "(10000, 1, 1, 256)\n"
     ]
    }
   ],
   "source": [
    "features,_ = cam_model.predict(X_test)\n",
    "results = svmclf.predict(test_X)\n",
    "print(results.shape)\n",
    "print(features.shape)"
   ]
  },
  {
   "cell_type": "code",
   "execution_count": 22,
   "id": "f7eda493",
   "metadata": {
    "execution": {
     "iopub.execute_input": "2022-12-11T16:57:41.350856Z",
     "iopub.status.busy": "2022-12-11T16:57:41.350180Z",
     "iopub.status.idle": "2022-12-11T16:57:41.357466Z",
     "shell.execute_reply": "2022-12-11T16:57:41.356278Z",
     "shell.execute_reply.started": "2022-12-11T16:57:41.350817Z"
    }
   },
   "outputs": [
    {
     "name": "stdout",
     "output_type": "stream",
     "text": [
      "<class 'numpy.ndarray'>\n"
     ]
    }
   ],
   "source": [
    "print(type(X_test))"
   ]
  },
  {
   "cell_type": "code",
   "execution_count": 23,
   "id": "cf6d0ad5",
   "metadata": {
    "execution": {
     "iopub.execute_input": "2022-12-11T16:57:41.360437Z",
     "iopub.status.busy": "2022-12-11T16:57:41.358865Z",
     "iopub.status.idle": "2022-12-11T16:57:41.371432Z",
     "shell.execute_reply": "2022-12-11T16:57:41.370024Z",
     "shell.execute_reply.started": "2022-12-11T16:57:41.360316Z"
    }
   },
   "outputs": [
    {
     "name": "stdout",
     "output_type": "stream",
     "text": [
      "The features for image index 0 has shape (height, width, num of feature channels) :  (1, 1, 256)\n"
     ]
    }
   ],
   "source": [
    "idx = 0\n",
    "img_features = features[idx,:,:,:]\n",
    "\n",
    "print(f\"The features for image index {idx} has shape (height, width, num of feature channels) : \", img_features.shape)"
   ]
  },
  {
   "cell_type": "code",
   "execution_count": 24,
   "id": "8f826d4c",
   "metadata": {
    "execution": {
     "iopub.execute_input": "2022-12-11T16:57:41.374757Z",
     "iopub.status.busy": "2022-12-11T16:57:41.374077Z",
     "iopub.status.idle": "2022-12-11T16:57:41.390730Z",
     "shell.execute_reply": "2022-12-11T16:57:41.389755Z",
     "shell.execute_reply.started": "2022-12-11T16:57:41.374721Z"
    },
    "pycharm": {
     "name": "#%%\n"
    }
   },
   "outputs": [
    {
     "name": "stdout",
     "output_type": "stream",
     "text": [
      "features_for_img_scaled up to 28 by 28 height and width: (9, 9, 256)\n"
     ]
    }
   ],
   "source": [
    "features_for_img_scaled = sp.ndimage.zoom(img_features, (28/3, 28/3,1), order=2) #scale features to original image hxw\n",
    "print(\"features_for_img_scaled up to 28 by 28 height and width:\", features_for_img_scaled.shape)"
   ]
  },
  {
   "cell_type": "code",
   "execution_count": 25,
   "id": "0447db64",
   "metadata": {
    "execution": {
     "iopub.execute_input": "2022-12-11T16:57:41.392600Z",
     "iopub.status.busy": "2022-12-11T16:57:41.392035Z",
     "iopub.status.idle": "2022-12-11T16:57:41.408423Z",
     "shell.execute_reply": "2022-12-11T16:57:41.407328Z",
     "shell.execute_reply.started": "2022-12-11T16:57:41.392566Z"
    },
    "pycharm": {
     "name": "#%%\n"
    }
   },
   "outputs": [
    {
     "name": "stdout",
     "output_type": "stream",
     "text": [
      "features_for_img_scaled up to 28 by 28 height and width: (9, 9, 256)\n",
      "features_for_img_scaled has shape  (9, 9, 256)\n",
      "gap_weights_for_one_class has shape  (256,)\n",
      "class activation map shape  (9, 9)\n"
     ]
    }
   ],
   "source": [
    "features_for_img_scaled = sp.ndimage.zoom(img_features, (28/3, 28/3,1), order=2) #scale features to original image hxw\n",
    "print(\"features_for_img_scaled up to 28 by 28 height and width:\", features_for_img_scaled.shape)\n",
    "class_id = 0\n",
    "gap_weights_for_one_class = gap_weights[:,class_id]\n",
    "print(\"features_for_img_scaled has shape \", features_for_img_scaled.shape)\n",
    "print(\"gap_weights_for_one_class has shape \", gap_weights_for_one_class.shape)\n",
    "cam = np.dot(features_for_img_scaled, gap_weights_for_one_class)\n",
    "print(\"class activation map shape \", cam.shape)"
   ]
  },
  {
   "cell_type": "markdown",
   "id": "4898185a",
   "metadata": {},
   "source": [
    "### CAM"
   ]
  },
  {
   "cell_type": "code",
   "execution_count": 26,
   "id": "2c878cf1",
   "metadata": {
    "execution": {
     "iopub.execute_input": "2022-12-11T16:57:41.410654Z",
     "iopub.status.busy": "2022-12-11T16:57:41.410267Z",
     "iopub.status.idle": "2022-12-11T16:57:41.418653Z",
     "shell.execute_reply": "2022-12-11T16:57:41.417253Z",
     "shell.execute_reply.started": "2022-12-11T16:57:41.410618Z"
    },
    "pycharm": {
     "name": "#%%\n"
    }
   },
   "outputs": [],
   "source": [
    "# https://github.com/y33-j3T/Coursera-Deep-Learning/blob/master/Advanced%20Computer%20Vision%20with%20TensorFlow/Week%204%20-%20Visualization%20and%20Interpretability/Copy%20of%20C3_W4_Lab_1_FashionMNIST-CAM.ipynb\n",
    "def show_cam(test_img,features_for_img,results):\n",
    "  # get the class with the highest output probability\n",
    "    prediction = np.argmax(results)\n",
    "    class_activation_weights = gap_weights[:, prediction]\n",
    "    class_activation_features = sp.ndimage.zoom(features_for_img, (28, 28, 1), order=2)\n",
    "    cam_output  = np.dot(class_activation_features,class_activation_weights)\n",
    "    print('Predicted Class = ' +str(prediction))\n",
    "    test_img = test_img.reshape((28,28))\n",
    "    print(test_img.shape)\n",
    "    plt.imshow(test_img, alpha=0.5)\n",
    "    #if results[prediction]>0.95:\n",
    "        #print(\"green\")\n",
    "    cmap_str = 'Reds'\n",
    "    #else:\n",
    "        #print(\"red\")\n",
    "        #cmap_str = 'Reds'\n",
    "    plt.imshow(cam_output, cmap=cmap_str, alpha=0.5)\n",
    "    plt.show()\n"
   ]
  },
  {
   "cell_type": "markdown",
   "id": "9e22a2cd",
   "metadata": {},
   "source": [
    "### Run show_cam with preprocessed google images"
   ]
  },
  {
   "cell_type": "code",
   "execution_count": 35,
   "id": "cc212dec",
   "metadata": {
    "execution": {
     "iopub.execute_input": "2022-12-11T17:00:44.138263Z",
     "iopub.status.busy": "2022-12-11T17:00:44.137859Z",
     "iopub.status.idle": "2022-12-11T17:00:44.388960Z",
     "shell.execute_reply": "2022-12-11T17:00:44.388298Z",
     "shell.execute_reply.started": "2022-12-11T17:00:44.138228Z"
    },
    "pycharm": {
     "name": "#%%\n"
    }
   },
   "outputs": [
    {
     "name": "stdout",
     "output_type": "stream",
     "text": [
      "[[ 0.16069904  0.2051855   0.13830656  0.08345777  0.11523289  0.0375183\n",
      "   0.18300316 -0.0068561   0.06824257  0.01521032]]\n",
      "Predicted Class = 1\n",
      "(28, 28)\n"
     ]
    },
    {
     "data": {
      "image/png": "[encoded data removed]",
      "text/plain": [
       "<Figure size 432x288 with 1 Axes>"
      ]
     },
     "metadata": {
      "needs_background": "light"
     },
     "output_type": "display_data"
    }
   ],
   "source": [
    "Image_Path = '/kaggle/input/trouserimage/trouserimage2.jpg'\n",
    "Img = image.load_img(Image_Path, target_size = (28,28),color_mode='grayscale')\n",
    "Img_Array = image.img_to_array(Img)\n",
    "#print(type(Img_Array))\n",
    "#print(Img_Array.shape)\n",
    "Img_Array /= 255\n",
    "Img_Array = np.asarray(Img_Array).reshape((1, 28, 28, 1))\n",
    "#print(Img_Array.shape)\n",
    "features, _ = cam_model.predict(Img_Array)\n",
    "Img_feat = getFeature([Img_Array, 0])[0]\n",
    "#print(Img_feat)\n",
    "\n",
    "results = svmclf.decision_function(Img_feat)\n",
    "res_sum = np.sum(results)\n",
    "results = results / res_sum\n",
    "print(results)\n",
    "show_cam(test_img=Img_Array,\n",
    "         features_for_img=features.squeeze(axis=0),\n",
    "         results=results)"
   ]
  },
  {
   "cell_type": "code",
   "execution_count": 52,
   "id": "df444a56",
   "metadata": {
    "execution": {
     "iopub.execute_input": "2022-12-11T18:09:21.103365Z",
     "iopub.status.busy": "2022-12-11T18:09:21.102160Z",
     "iopub.status.idle": "2022-12-11T18:09:21.518082Z",
     "shell.execute_reply": "2022-12-11T18:09:21.517043Z",
     "shell.execute_reply.started": "2022-12-11T18:09:21.103319Z"
    }
   },
   "outputs": [
    {
     "name": "stdout",
     "output_type": "stream",
     "text": [
      "(28, 28)\n"
     ]
    },
    {
     "data": {
      "image/png": "[encoded data removed]",
      "text/plain": [
       "<Figure size 432x288 with 1 Axes>"
      ]
     },
     "metadata": {
      "needs_background": "light"
     },
     "output_type": "display_data"
    },
    {
     "name": "stdout",
     "output_type": "stream",
     "text": [
      "(1, 28, 28, 1)\n",
      "[[ 0.18745855  0.09111641  0.18740712  0.08373954  0.06222326  0.16110604\n",
      "   0.13152854  0.01704087  0.08426617 -0.00588649]]\n",
      "Predicted Class = 0\n",
      "(28, 28)\n"
     ]
    },
    {
     "data": {
      "image/png": "[encoded data removed]",
      "text/plain": [
       "<Figure size 432x288 with 1 Axes>"
      ]
     },
     "metadata": {
      "needs_background": "light"
     },
     "output_type": "display_data"
    }
   ],
   "source": [
    "img1 = cv2.imread('/kaggle/input/dress-pencil/dress_pencil.jfif', 0)\n",
    "img1.resize(28,28)\n",
    "print(img1.shape)\n",
    "img1 = cv2.bitwise_not(img1)\n",
    "plt.imshow(img1, cmap=\"gray\")\n",
    "plt.show()\n",
    "img1 = np.asarray(img1).reshape((1, 28, 28, 1))\n",
    "print(img1.shape)\n",
    "features, _ = cam_model.predict(img1)\n",
    "img2 = getFeature([img1, 0])[0]\n",
    "results = svmclf.decision_function(img2)\n",
    "res_sum = np.sum(results)\n",
    "results = results / res_sum\n",
    "print(results)\n",
    "show_cam(test_img=img1,\n",
    "         features_for_img=features.squeeze(axis=0),\n",
    "         results=results.squeeze(axis=0))"
   ]
  },
  {
   "cell_type": "code",
   "execution_count": 37,
   "id": "54ec450b",
   "metadata": {
    "execution": {
     "iopub.execute_input": "2022-12-11T17:02:15.616631Z",
     "iopub.status.busy": "2022-12-11T17:02:15.616021Z",
     "iopub.status.idle": "2022-12-11T17:02:15.651629Z",
     "shell.execute_reply": "2022-12-11T17:02:15.650260Z",
     "shell.execute_reply.started": "2022-12-11T17:02:15.616589Z"
    }
   },
   "outputs": [
    {
     "ename": "ValueError",
     "evalue": "When using data tensors as input to a model, you should specify the `steps` argument.",
     "output_type": "error",
     "traceback": [
      "\u001b[0;31m---------------------------------------------------------------------------\u001b[0m",
      "\u001b[0;31mValueError\u001b[0m                                Traceback (most recent call last)",
      "\u001b[0;32m/tmp/ipykernel_177/1752824998.py\u001b[0m in \u001b[0;36m<module>\u001b[0;34m\u001b[0m\n\u001b[0;32m----> 1\u001b[0;31m \u001b[0mfeatures\u001b[0m\u001b[0;34m,\u001b[0m \u001b[0m_\u001b[0m \u001b[0;34m=\u001b[0m \u001b[0mcam_model\u001b[0m\u001b[0;34m.\u001b[0m\u001b[0mpredict\u001b[0m\u001b[0;34m(\u001b[0m\u001b[0mimg\u001b[0m\u001b[0;34m)\u001b[0m\u001b[0;34m\u001b[0m\u001b[0;34m\u001b[0m\u001b[0m\n\u001b[0m",
      "\u001b[0;32m/opt/conda/lib/python3.7/site-packages/keras/engine/training_v1.py\u001b[0m in \u001b[0;36mpredict\u001b[0;34m(self, x, batch_size, verbose, steps, callbacks, max_queue_size, workers, use_multiprocessing)\u001b[0m\n\u001b[1;32m    977\u001b[0m         \u001b[0mmax_queue_size\u001b[0m\u001b[0;34m=\u001b[0m\u001b[0mmax_queue_size\u001b[0m\u001b[0;34m,\u001b[0m\u001b[0;34m\u001b[0m\u001b[0;34m\u001b[0m\u001b[0m\n\u001b[1;32m    978\u001b[0m         \u001b[0mworkers\u001b[0m\u001b[0;34m=\u001b[0m\u001b[0mworkers\u001b[0m\u001b[0;34m,\u001b[0m\u001b[0;34m\u001b[0m\u001b[0;34m\u001b[0m\u001b[0m\n\u001b[0;32m--> 979\u001b[0;31m         use_multiprocessing=use_multiprocessing)\n\u001b[0m\u001b[1;32m    980\u001b[0m \u001b[0;34m\u001b[0m\u001b[0m\n\u001b[1;32m    981\u001b[0m   \u001b[0;32mdef\u001b[0m \u001b[0mreset_metrics\u001b[0m\u001b[0;34m(\u001b[0m\u001b[0mself\u001b[0m\u001b[0;34m)\u001b[0m\u001b[0;34m:\u001b[0m\u001b[0;34m\u001b[0m\u001b[0;34m\u001b[0m\u001b[0m\n",
      "\u001b[0;32m/opt/conda/lib/python3.7/site-packages/keras/engine/training_arrays_v1.py\u001b[0m in \u001b[0;36mpredict\u001b[0;34m(self, model, x, batch_size, verbose, steps, callbacks, **kwargs)\u001b[0m\n\u001b[1;32m    696\u001b[0m     \u001b[0mbatch_size\u001b[0m \u001b[0;34m=\u001b[0m \u001b[0mmodel\u001b[0m\u001b[0;34m.\u001b[0m\u001b[0m_validate_or_infer_batch_size\u001b[0m\u001b[0;34m(\u001b[0m\u001b[0mbatch_size\u001b[0m\u001b[0;34m,\u001b[0m \u001b[0msteps\u001b[0m\u001b[0;34m,\u001b[0m \u001b[0mx\u001b[0m\u001b[0;34m)\u001b[0m\u001b[0;34m\u001b[0m\u001b[0;34m\u001b[0m\u001b[0m\n\u001b[1;32m    697\u001b[0m     x, _, _ = model._standardize_user_data(\n\u001b[0;32m--> 698\u001b[0;31m         x, check_steps=True, steps_name='steps', steps=steps)\n\u001b[0m\u001b[1;32m    699\u001b[0m     return predict_loop(\n\u001b[1;32m    700\u001b[0m         \u001b[0mmodel\u001b[0m\u001b[0;34m,\u001b[0m\u001b[0;34m\u001b[0m\u001b[0;34m\u001b[0m\u001b[0m\n",
      "\u001b[0;32m/opt/conda/lib/python3.7/site-packages/keras/engine/training_v1.py\u001b[0m in \u001b[0;36m_standardize_user_data\u001b[0;34m(self, x, y, sample_weight, class_weight, batch_size, check_steps, steps_name, steps, validation_split, shuffle, extract_tensors_from_dataset)\u001b[0m\n\u001b[1;32m   2292\u001b[0m     \u001b[0;31m# Validates `steps` argument based on x's type.\u001b[0m\u001b[0;34m\u001b[0m\u001b[0;34m\u001b[0m\u001b[0;34m\u001b[0m\u001b[0m\n\u001b[1;32m   2293\u001b[0m     \u001b[0;32mif\u001b[0m \u001b[0mcheck_steps\u001b[0m\u001b[0;34m:\u001b[0m\u001b[0;34m\u001b[0m\u001b[0;34m\u001b[0m\u001b[0m\n\u001b[0;32m-> 2294\u001b[0;31m       \u001b[0mtraining_utils_v1\u001b[0m\u001b[0;34m.\u001b[0m\u001b[0mcheck_steps_argument\u001b[0m\u001b[0;34m(\u001b[0m\u001b[0mx\u001b[0m\u001b[0;34m,\u001b[0m \u001b[0msteps\u001b[0m\u001b[0;34m,\u001b[0m \u001b[0msteps_name\u001b[0m\u001b[0;34m)\u001b[0m\u001b[0;34m\u001b[0m\u001b[0;34m\u001b[0m\u001b[0m\n\u001b[0m\u001b[1;32m   2295\u001b[0m \u001b[0;34m\u001b[0m\u001b[0m\n\u001b[1;32m   2296\u001b[0m     \u001b[0;31m# First, we build the model on the fly if necessary.\u001b[0m\u001b[0;34m\u001b[0m\u001b[0;34m\u001b[0m\u001b[0;34m\u001b[0m\u001b[0m\n",
      "\u001b[0;32m/opt/conda/lib/python3.7/site-packages/keras/engine/training_utils_v1.py\u001b[0m in \u001b[0;36mcheck_steps_argument\u001b[0;34m(input_data, steps, steps_name)\u001b[0m\n\u001b[1;32m   1315\u001b[0m       raise ValueError('When using {input_type} as input to a model, you should'\n\u001b[1;32m   1316\u001b[0m                        ' specify the `{steps_name}` argument.'.format(\n\u001b[0;32m-> 1317\u001b[0;31m                            input_type=input_type_str, steps_name=steps_name))\n\u001b[0m\u001b[1;32m   1318\u001b[0m     \u001b[0;32mreturn\u001b[0m \u001b[0;32mTrue\u001b[0m\u001b[0;34m\u001b[0m\u001b[0;34m\u001b[0m\u001b[0m\n\u001b[1;32m   1319\u001b[0m \u001b[0;34m\u001b[0m\u001b[0m\n",
      "\u001b[0;31mValueError\u001b[0m: When using data tensors as input to a model, you should specify the `steps` argument."
     ]
    }
   ],
   "source": [
    "features, _ = cam_model.predict(img)"
   ]
  }
 ],
 "metadata": {
  "kernelspec": {
   "display_name": "Python 3 (ipykernel)",
   "language": "python",
   "name": "python3"
  },
  "language_info": {
   "codemirror_mode": {
    "name": "ipython",
    "version": 3
   },
   "file_extension": ".py",
   "mimetype": "text/x-python",
   "name": "python",
   "nbconvert_exporter": "python",
   "pygments_lexer": "ipython3",
   "version": "3.9.12"
  }
 },
 "nbformat": 4,
 "nbformat_minor": 5
}
